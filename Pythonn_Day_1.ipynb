{
  "nbformat": 4,
  "nbformat_minor": 0,
  "metadata": {
    "colab": {
      "provenance": [],
      "authorship_tag": "ABX9TyMpQIsbUFnEFYBQrVrU32Ux",
      "include_colab_link": true
    },
    "kernelspec": {
      "name": "python3",
      "display_name": "Python 3"
    },
    "language_info": {
      "name": "python"
    }
  },
  "cells": [
    {
      "cell_type": "markdown",
      "metadata": {
        "id": "view-in-github",
        "colab_type": "text"
      },
      "source": [
        "<a href=\"https://colab.research.google.com/github/jengha07/pythonclass/blob/main/Pythonn_Day_1.ipynb\" target=\"_parent\"><img src=\"https://colab.research.google.com/assets/colab-badge.svg\" alt=\"Open In Colab\"/></a>"
      ]
    },
    {
      "cell_type": "code",
      "execution_count": null,
      "metadata": {
        "id": "iJTH6F_geqzZ"
      },
      "outputs": [],
      "source": [
        "print(\"Hello world!!!)\n",
        "Hello world!!!"
      ]
    },
    {
      "cell_type": "markdown",
      "source": [
        "**- 파이썬이란...**\n",
        "귀도 반 로썸, 1990년에 개발한 인터프리터 언어이다. \n",
        "컴퓨터의 언어를 2개로 분류하였을 때, 인터프리터 그리고 컴파일러가 존재한다. \n",
        "자바는 두개의 속성, 하이브리더언어라고도 함. \n",
        "\n",
        "인터프리터는 한줄 씩 실행하여 결과 바로 확인가능한 언어이다, 컴파일러는 덩어리⚡\n",
        "\n",
        "로고는 고대 신화에 나오는 동굴에 살던 큰 뱀을 뜻함. \n",
        "\n",
        "파이썬은 교육용으로 많이 사용되기도 하지만 업무용으로도 손색x\n",
        "\n",
        "**특징**\n",
        "1. 문법이 쉽다 = 직관적이다\n",
        "2. 빠르게 배울 수 있다. \n",
        "3. 무료지만 강력\n",
        "4. 즐거운 프로그래밍 가능\n",
        "\n",
        "**파이썬으로 할 수 있는 일**\n",
        "1. 인공지능 🍊\n",
        "2. 빅데이터 ⛄\n",
        "3. GUI 애플리케이션 🌷\n",
        "4. C / C++ 🐤\n",
        "5. 웹 프로그래밍 ( flast, Djanggo ) 🦊\n",
        "6. 데이터베이스 🌸\n",
        "\n",
        "**파이썬 약점**\n",
        "- 시스템과 밀접한 프로그래밍 \n",
        "- 모바일 프로그래밍\n",
        "\n",
        "**IDE 개발도구**\n",
        "- colab\n",
        "- Anaconda\n",
        "- VS code (강사님의 추천)\n",
        "- Pycharm \n",
        "\n",
        "\n",
        "\n",
        "\n",
        "\n",
        "\n",
        "\n",
        "\n",
        "\n",
        "\n"
      ],
      "metadata": {
        "id": "80-5yFKXhxSG"
      }
    },
    {
      "cell_type": "markdown",
      "source": [
        "# 변수\n",
        "\n",
        "숫자 , 문자 등등을 다룰 때 컴퓨터에서는** 변수 (variable)** 를 사용하게 된다. \n",
        "\n",
        "a = 1\n",
        "a = 2 \n",
        "b = \"python\"\n",
        "b = \"java\"\n",
        "\n",
        "print(a) \n",
        "print(b):\n",
        "\n",
        "데이터를 변수에 넣어서 사용해라🍀:"
      ],
      "metadata": {
        "id": "NnBHKmKlro4I"
      }
    },
    {
      "cell_type": "markdown",
      "source": [
        "\n",
        "\n",
        "# **자료형**\n",
        "\n",
        "자료형이란, 프로그래밍에서 자료 형태로 문자/숫자..를 사용하는 것을 말함\n",
        "            프로그래밍의 핵심이자 기본이다. 자료형을 충분히 이해하야만 \n",
        "            프로그래밍을 잘 할 수 있다. \n",
        "1. 숫자형자료\n",
        "\n",
        "숫자형 자료형은 숫자 형태 (정수, 실수 등등) 으로 이루어져 있다. \n",
        "\n",
        "정수는 1 2\n",
        "\n",
        "실수 2.14 , 3.84\n",
        "\n",
        "정수 ( Integer ) \n",
        "\n"
      ],
      "metadata": {
        "id": "LK4za7suqDuO"
      }
    },
    {
      "cell_type": "code",
      "source": [
        "a = 3 \n",
        "b = 5\n",
        "\n",
        "# print는 생략해도 출력이 되지만 정상은 print구문을 사용하는 것이다. \n",
        "print(a+b) #주석 comment 은 컴퓨터가 읽지 못한다. 자바는 // 임.  \n",
        "print(a-b)\n",
        "print(a*b)\n",
        "print(a/b)\n"
      ],
      "metadata": {
        "colab": {
          "base_uri": "https://localhost:8080/"
        },
        "id": "iEJVWxRyvdZg",
        "outputId": "189a0d26-8195-432b-b67f-656daa68e585"
      },
      "execution_count": null,
      "outputs": [
        {
          "output_type": "stream",
          "name": "stdout",
          "text": [
            "8\n",
            "-2\n",
            "15\n",
            "0.6\n"
          ]
        }
      ]
    },
    {
      "cell_type": "code",
      "source": [
        "#나머지 연산자 % (사용빈도높음) 이는 몫이 아닌 나머지를 구한다. \n",
        "#나머지 연산자를 통해 짝수, 홀수, 배수를 알아낼 수 있다. \n",
        "a = 7\n",
        "b= 3\n",
        "print(a%b)\n",
        "print(8%2) #어떤수를 2로 나눈 나머지가 1이면 항상 홀수이고 나머지가 0이면 항상 짝수 \n",
        "print(8%4) #어떤수를 어떤수로 나눈 나머지가 0이면 항상 그 수의 배수이다. "
      ],
      "metadata": {
        "colab": {
          "base_uri": "https://localhost:8080/"
        },
        "id": "sopZQRf7xEo5",
        "outputId": "da6260b9-cbcd-4c37-c668-d35e67e62070"
      },
      "execution_count": null,
      "outputs": [
        {
          "output_type": "stream",
          "name": "stdout",
          "text": [
            "1\n",
            "0\n",
            "0\n"
          ]
        }
      ]
    },
    {
      "cell_type": "code",
      "source": [
        "#몫을 알고 싶을 때는 // (사용빈도낮음)\n",
        "\n",
        "print(9//2)\n"
      ],
      "metadata": {
        "colab": {
          "base_uri": "https://localhost:8080/"
        },
        "id": "we_g4CuWynOQ",
        "outputId": "c8d4486a-5993-49aa-fbba-6fe490754e61"
      },
      "execution_count": null,
      "outputs": [
        {
          "output_type": "stream",
          "name": "stdout",
          "text": [
            "4\n"
          ]
        }
      ]
    },
    {
      "cell_type": "markdown",
      "source": [
        "#문자열 자료형\n",
        "\n",
        "문자열을 문자, 단어, 문장 등으로 구성된\n",
        "글자들의 집합이다. \n"
      ],
      "metadata": {
        "id": "8s6Z2RSty7Ko"
      }
    },
    {
      "cell_type": "code",
      "source": [
        "a = \"b\"\n",
        "b = \"hello\"\n",
        "c = \"awesome class\"\n",
        "d = \"123\" # 123 숫자 123과는 다른 문자\"123\"이다. \n",
        "\n",
        "print(a)\n",
        "print(b)\n",
        "print(c)\n",
        "print(d)\n",
        "\n",
        "\n",
        "#자바 등과 같은 언어에서는 변수를 사용할 때 형까지도 지정을 해주어야만한다. \n",
        "# char a = \"b\";\n",
        "# string b ] \"hello\";\n",
        "# int c = 5;\n"
      ],
      "metadata": {
        "colab": {
          "base_uri": "https://localhost:8080/"
        },
        "id": "3ai6jZqtzK5j",
        "outputId": "0745c320-c634-4cd2-dc8c-348561f867d1"
      },
      "execution_count": null,
      "outputs": [
        {
          "output_type": "stream",
          "name": "stdout",
          "text": [
            "b\n",
            "hello\n",
            "awesome class\n",
            "123\n"
          ]
        }
      ]
    },
    {
      "cell_type": "code",
      "source": [
        "#파이썬에서 문자열은 \"\" 큰따음표, '' 작은따옴표 기본적으로 동일하게 취급한다. \n",
        "\n",
        "a = \"hello\"\n",
        "b = 'hello'\n",
        "print(a)\n",
        "print(b)\n",
        "\n",
        "# 하지만 아래의 경우 약간 다르게 처리된다. \n",
        "a = 'Hello \"Austin\"'\n",
        "print(a)\n",
        "\n",
        "b = \"Hello 'Austin'\"\n",
        "print(b)\n",
        "\n",
        "# \"\"\" \"\"\" doc string 컴퓨터도 읽는 주석\n",
        "# ''' '''\n",
        "\n",
        "#백슬래시를 넣으면 기능이 무시되고 글자로만 취급된다.\n",
        "a = \"hello \\\"Austin\\\"\" \n",
        "b = 'hello \\'Austin\\''   \n",
        "print(a)\n",
        "print(b)\n",
        "\n",
        "# \\ 백슬래시를 사용하는 것을 이스케이프 코드를 사용한다라고 표현한다. \n",
        "# \\\"\n",
        "# \\\"\n",
        "# \\n 강제 줄바꿈\n",
        "# \\t 일정 간격 띄우기\n",
        "\n",
        "a = \"hello \\nWorld\"\n",
        "\n",
        "b = \"hello\\t\\t\\tworld\"\n",
        "print(b)"
      ],
      "metadata": {
        "colab": {
          "base_uri": "https://localhost:8080/"
        },
        "id": "dWnfWYxS1GJZ",
        "outputId": "cdfc73d0-59ab-48a8-9931-4a006eab4e6b"
      },
      "execution_count": null,
      "outputs": [
        {
          "output_type": "stream",
          "name": "stdout",
          "text": [
            "hello\n",
            "hello\n",
            "Hello \"Austin\"\n",
            "Hello 'Austin'\n",
            "hello \"Austin\"\n",
            "hello 'Austin'\n",
            "hello\t\t\tworld\n"
          ]
        }
      ]
    },
    {
      "cell_type": "markdown",
      "source": [
        "파이썬에서 아주 중요한 자료형 4가지\n",
        "- List\n",
        "- Tuple\n",
        "- Dict \n",
        "- Set 동일자료를 허용하지 않는다. "
      ],
      "metadata": {
        "id": "uRPwzi-F4_vh"
      }
    },
    {
      "cell_type": "markdown",
      "source": [
        "#LiST  [   ] 로 만든다\n",
        "\n",
        "- mutuable 수정가능하다\n",
        "- 파이썬에서 가장 많이 사용된다.\n",
        "- indexing / slicing 이 가능하다\n",
        "- 요소를 하나만 저장할때도 쉼표를 붙인다. \n",
        "\n",
        "#Tuple  (  ) 로 만든다\n",
        "\n",
        "- immutable 수정불가능하다. \n",
        "- indexing / slicing 가능하다. \n",
        "\n",
        "# Dic   {    }\n",
        "\n",
        "- mutable 수정 가능하다. \n",
        "- indexing / slicing 불가능하다.\n",
        "- 키값 - 밸류값 쌍으로 구성된다.  \n",
        "\n",
        "# Set  {   }\n",
        "- mutable 수정 가능하다 \n",
        "- indexing / slicing 불가능하다. \n",
        "- 중복 값을 허용하지 않는다. \n",
        "\n",
        "**Dic의 경우 키값 밸류값 쌍으로 들어가며 Set은 중복값 허용 X** ⭐\n",
        "\n",
        "# LIST \n",
        "- mutuable 수정가능하다\n",
        "- 파이썬에서 가장 많이 사용된다.\n",
        "- indexing / slicing 이 가능하다\n",
        "\n",
        "\n",
        "\n"
      ],
      "metadata": {
        "id": "ORkKSZqpjUmA"
      }
    },
    {
      "cell_type": "code",
      "source": [
        "# 리스트 작성\n",
        "\n",
        "#빈 리스트\n",
        "emp1 = []\n",
        "odd2 = [1,3,5,7,9]\n",
        "str3 = [\"하나\",\"둘\",\"삼\"]  \n",
        "mix4 = [1,2,\"삼\"]       \n",
        "\n",
        "#일반적으로 에러가 나지만 파이썬은 제외, 장점이라 할 수 있음\n",
        "\n",
        "print(emp1)\n",
        "print(odd2)\n",
        "print(str3)\n",
        "print(mix4)\n",
        "\n",
        "#리스트에서 인덱싱 indexing\n",
        "\n",
        "alist = [10,20,30,40,50] \n",
        "\n",
        "print(alist[0])\n",
        "print(alist[0] + alist[1])\n",
        "\n",
        "print((alist[0] + alist[1] + alist[2] + alist[3] + alist[4]) / 5)\n",
        "\n",
        "\n",
        "#print(alist[1])     # 0부터 시작하기에 20이 출력, 0,1,2,3 이러한 순서이다. 즉, 파이썬에서의 인덱싱은 0부터 시작\n"
      ],
      "metadata": {
        "colab": {
          "base_uri": "https://localhost:8080/"
        },
        "id": "fLiCKP0WjeB4",
        "outputId": "0be25b27-6788-4d51-a8a4-ee9496353392"
      },
      "execution_count": null,
      "outputs": [
        {
          "output_type": "stream",
          "name": "stdout",
          "text": [
            "[]\n",
            "[1, 3, 5, 7, 9]\n",
            "['하나', '둘', '삼']\n",
            "[1, 2, '삼']\n",
            "10\n",
            "30\n",
            "30.0\n"
          ]
        }
      ]
    },
    {
      "cell_type": "code",
      "source": [
        "# 슬라이싱 slicing 하나씩 추출하는 인덱싱과는 달리 여러개를 추출한다. \n",
        "# ex) 생년월일, 주소, 앞에서 3글자 2글자 이런식으로 뽑는 것\n",
        "\n",
        "blist = \"12345\"\n",
        "\n",
        "blist[0:2] #왜 3이 안나왔는가? = 0부터 2미만 이라는 뜻임 = 2는 포함하지 않는다. \n",
        "blist[:3] # 시작을 생략하면 처음부터 3미만까지 3은 포함하지 않는다. \n",
        "blist[0:] #마지막을 생략하면 마지막까지 "
      ],
      "metadata": {
        "id": "l6F-IV_OjkGY"
      },
      "execution_count": null,
      "outputs": []
    },
    {
      "cell_type": "code",
      "source": [
        "# 리스트에서의 연산\n",
        "\n",
        "#리스트 더하기 (리스트들의 연결된 합으로 나타난다.)\n",
        "\n",
        "alist = [1,2,3,4,5]\n",
        "blist = [6,7,8,9,10]\n",
        "\n",
        "print(alist + blist) \n",
        "\n",
        "#리스트 곱하기  (리스트들을 반복하여 연결된 합으로 나타난다.)\n",
        "\n",
        "print(alist * 3) \n",
        "\n",
        "#리스트의 갯수 구하기\n",
        "\n",
        "print(len(blist))"
      ],
      "metadata": {
        "id": "tMH7o-p7jmVA"
      },
      "execution_count": null,
      "outputs": []
    },
    {
      "cell_type": "code",
      "source": [
        "#리스트의 수정 = mutable\n",
        "\n",
        "alist = [1,2,3,4,5]\n",
        "alist[2] = 0\n",
        "print(alist)\n",
        "\n",
        "#원래 바꿀 수 없으나 할 수 ㅇㅇㅇ\n",
        "\n",
        "#리스트의 삭제\n",
        "del alist[2]\n",
        "print(alist)\n"
      ],
      "metadata": {
        "id": "r0KpYPnNjoXg"
      },
      "execution_count": null,
      "outputs": []
    },
    {
      "cell_type": "code",
      "source": [
        "# 리스트에서 많이 사용되는 함수들\n",
        "\n",
        "# append 함수 = 정~~~~~~말 많이 쓰임, 이는 리스트에 요소를 추가하는 기능이다. \n",
        "\n",
        "alist = [1,2,3,4,5] \n",
        "\n",
        "alist.append(6)\n",
        "\n",
        "print(alist)\n",
        "print(\"원래 리스트에 요소를 추가하는 기능은 \",alist, \"입니다. \")\n",
        "\n",
        "# sort - 리스트에서 요소들을 정렬하는 기능 \n",
        "\n",
        "blist = [2,4,3,5,1]\n",
        "blist.sort() #정렬을 해라, 정렬한 아이를 찍어라 \n",
        "print(blist)\n",
        "print(\"원래 리스트를 정렬하여 출력한 결과는 \",blist, \"입니다.\")\n",
        "\n",
        "# reverse - 리스트에서 요소들을 그대로(중요) 뒤집는 기능 \n",
        "\n",
        "clist =  [1,2,3]\n",
        "clist.reverse()\n",
        "print(clist)\n",
        "print(\"원래 리스트를 그대로 역순으로 출력한 결과는 \",clist, \"입니다.\") \n",
        "\n",
        "#index -  리스트에서 특정 값의 위치를 반환하는 기능 \n",
        "\n",
        "dlist = [1,2,3,4,5]\n",
        "print(dlist.index(2)) #2의 값의 위치를 구하는 것을 말한다. \n",
        "print(\"숫자 2의 인덱스 값은 \", dlist.index(2), \"입니다.\")\n",
        "\n",
        "#insert - 리스트의 특정 위치에 요소를 추가하는 함수 (주로 append를 사용)\n",
        "elist = [1,2,3,4,5]\n",
        "elist.insert(0,0) #(특정위치인덱스, 넣을값)\n",
        "print(elist)\n",
        "\n",
        "#remove - 리스트에서 요소를 삭제하는 기능\n",
        "\n",
        "flist = [1,2,3,4,5,3]\n",
        "flist.remove(3) #3이라는 요소를 삭제한다 =  리스트에서 삭제할 값을 입력, 같은 값이 여러개 있을 경우에는 처음 등장하는 값을 삭제한다.\n",
        "print(flist)\n",
        "\n",
        "# pop - 리스트에서 마지막 요소를 제거하는 용도로 주로 쓰이지만 특정 위치로도 삭제(특정 위치에 있는거 삭제가능 하지막 마지막요소용도로 많이 쓰임)\n",
        "\n",
        "glist = [1,2,3,4,5]\n",
        "glist.pop()\n",
        "glist.pop()\n",
        "print(glist)\n",
        "glist.pop(0)\n",
        "glist.pop(0)\n",
        "\n",
        "# 리스트에서 요소의 개수 세기 기능\n",
        "\n",
        "jlist = [1,2,3,1]\n",
        "jlist.count(1)\n",
        "\n",
        "# 리스트의 확장 = 붙혀서 하나로 만드는 것 = 기존 리스트에 다른 리스트를 더하여 하나의 리스트로 만드는 것\n",
        "\n",
        "a = [1,2,3]\n",
        "\n",
        "a.extend([4,5])\n",
        "print(a)"
      ],
      "metadata": {
        "colab": {
          "base_uri": "https://localhost:8080/"
        },
        "id": "huYMOYQ9jrA4",
        "outputId": "01b00bb8-cc0d-46a1-df96-ad617271d813"
      },
      "execution_count": null,
      "outputs": [
        {
          "output_type": "stream",
          "name": "stdout",
          "text": [
            "[1, 2, 3, 4, 5, 6]\n",
            "원래 리스트에 요소를 추가하는 기능은  [1, 2, 3, 4, 5, 6] 입니다. \n",
            "[1, 2, 3, 4, 5]\n",
            "원래 리스트를 정렬하여 출력한 결과는  [1, 2, 3, 4, 5] 입니다.\n",
            "[3, 2, 1]\n",
            "원래 리스트를 그대로 역순으로 출력한 결과는  [3, 2, 1] 입니다.\n",
            "1\n",
            "숫자 2의 인덱스 값은  1 입니다.\n",
            "[0, 1, 2, 3, 4, 5]\n",
            "[1, 2, 4, 5, 3]\n",
            "[1, 2, 3]\n",
            "[1, 2, 3, 4, 5]\n"
          ]
        }
      ]
    },
    {
      "cell_type": "code",
      "source": [
        "#퀴즈\n",
        "movielist = [\"자백\", \"리맴버\", \"블랙아담\"]\n",
        "print(movielist)\n"
      ],
      "metadata": {
        "colab": {
          "base_uri": "https://localhost:8080/"
        },
        "id": "h69RalnMluXX",
        "outputId": "d10d80c6-6cea-4232-db1c-c6ba5e996d9f"
      },
      "execution_count": null,
      "outputs": [
        {
          "output_type": "stream",
          "name": "stdout",
          "text": [
            "['자백', '리맴버', '블랙아담']\n"
          ]
        }
      ]
    },
    {
      "cell_type": "code",
      "source": [
        "# 튜플 Tuple\n",
        "\n",
        "# 튜플은 리스트와 거의 동일하지만 immutable 즉, 한번 생성하면\n",
        "# 수정도 삭제도 불가능하다는 특징이 있다. \n",
        "# ( ) 소괄호로 만든다.\n",
        "\n",
        "tuple1 = ()\n",
        "tuple2 = (1,) #튜플은 원소 하나짜리로 만들때에는 괜히 쉼표를 넣는다. \n",
        "list2 = [1]\n",
        "\n",
        "tuple3 = (1,2,3)\n",
        "tuple4 = 1,2,3  #튜플은 괄호를 생략 가능할 수 있다. list의 경우에는 안된다 \n",
        "tuple5 = (1,2,3,(4,5,6)) #튜플 안에 튜플도 포함할 수 있다. 하나로 인식되는 것이다. list의 경우도 가능 \n",
        "\n",
        "\n",
        "\n"
      ],
      "metadata": {
        "id": "6Qwi8cHImfUA"
      },
      "execution_count": null,
      "outputs": []
    },
    {
      "cell_type": "code",
      "source": [
        "tuple1 = (1,2,3,4) \n",
        "# del tuple1[0] 튜플에서는 삭제가 불가능하다. \n",
        "tuple[0] = 0 # 튜플에서는 변경도 불가능하다.  이 두가지를 immutable한 속성이다. 이러한 속성은 tuple밖에 없다. \n"
      ],
      "metadata": {
        "colab": {
          "base_uri": "https://localhost:8080/",
          "height": 211
        },
        "id": "w7aMuSJGoMqA",
        "outputId": "2317527f-6bb1-42f6-895a-e84b887c2378"
      },
      "execution_count": null,
      "outputs": [
        {
          "output_type": "error",
          "ename": "TypeError",
          "evalue": "ignored",
          "traceback": [
            "\u001b[0;31m---------------------------------------------------------------------------\u001b[0m",
            "\u001b[0;31mTypeError\u001b[0m                                 Traceback (most recent call last)",
            "\u001b[0;32m<ipython-input-32-ed6f0e61a55e>\u001b[0m in \u001b[0;36m<module>\u001b[0;34m\u001b[0m\n\u001b[1;32m      1\u001b[0m \u001b[0mtuple1\u001b[0m \u001b[0;34m=\u001b[0m \u001b[0;34m(\u001b[0m\u001b[0;36m1\u001b[0m\u001b[0;34m,\u001b[0m\u001b[0;36m2\u001b[0m\u001b[0;34m,\u001b[0m\u001b[0;36m3\u001b[0m\u001b[0;34m,\u001b[0m\u001b[0;36m4\u001b[0m\u001b[0;34m)\u001b[0m\u001b[0;34m\u001b[0m\u001b[0;34m\u001b[0m\u001b[0m\n\u001b[1;32m      2\u001b[0m \u001b[0;31m# del tuple1[0] 튜플에서는 삭제가 불가능하다.\u001b[0m\u001b[0;34m\u001b[0m\u001b[0;34m\u001b[0m\u001b[0;34m\u001b[0m\u001b[0m\n\u001b[0;32m----> 3\u001b[0;31m \u001b[0mtuple\u001b[0m\u001b[0;34m[\u001b[0m\u001b[0;36m0\u001b[0m\u001b[0;34m]\u001b[0m \u001b[0;34m=\u001b[0m \u001b[0;36m0\u001b[0m\u001b[0;34m\u001b[0m\u001b[0;34m\u001b[0m\u001b[0m\n\u001b[0m",
            "\u001b[0;31mTypeError\u001b[0m: 'type' object does not support item assignment"
          ]
        }
      ]
    },
    {
      "cell_type": "code",
      "source": [
        "#튜플은 인덱싱이 가능하다. \n",
        "tu1 = (1,2,3,4,5)\n",
        "\n",
        "tu1[0]\n",
        "tu1[-1] #-1은 리스트와 튜플에서 마지막 인덱스 번호이다. \n"
      ],
      "metadata": {
        "colab": {
          "base_uri": "https://localhost:8080/"
        },
        "id": "oiCunmY0ovyY",
        "outputId": "9a25d0d8-39e4-4484-8320-4640c948e1f0"
      },
      "execution_count": null,
      "outputs": [
        {
          "output_type": "execute_result",
          "data": {
            "text/plain": [
              "5"
            ]
          },
          "metadata": {},
          "execution_count": 34
        }
      ]
    },
    {
      "cell_type": "code",
      "source": [
        "#튜플에서 슬라이싱도 가능하다\n",
        "\n",
        "tul1 = (1,2,3,4,5)\n",
        "tul1[0:3] # 두번째 숫자는 미만으로 해석된다. \n"
      ],
      "metadata": {
        "colab": {
          "base_uri": "https://localhost:8080/"
        },
        "id": "UHFn1qBIm04A",
        "outputId": "df5e1ea5-0f36-4020-d0a4-8db1292fb1f1"
      },
      "execution_count": null,
      "outputs": [
        {
          "output_type": "execute_result",
          "data": {
            "text/plain": [
              "(1, 2, 3)"
            ]
          },
          "metadata": {},
          "execution_count": 36
        }
      ]
    },
    {
      "cell_type": "code",
      "source": [
        "# 튜플의 요소 갯수 (몇개가 있는지? index는 0부터 시작, 헷갈 ㄴㄴ) / apeend도 ㄴㄴ\n",
        "\n",
        "tu1 = (1,2,3,4,5)\n",
        "print(len(tu1))"
      ],
      "metadata": {
        "colab": {
          "base_uri": "https://localhost:8080/"
        },
        "id": "ksAPOG6apmr_",
        "outputId": "ca2ded85-6575-48cb-fcb7-0fb749b8dff7"
      },
      "execution_count": null,
      "outputs": [
        {
          "output_type": "stream",
          "name": "stdout",
          "text": [
            "5\n"
          ]
        }
      ]
    },
    {
      "cell_type": "code",
      "source": [
        "from re import A\n",
        "# 딕셔너리 Dict\n",
        "\n",
        "#이름 그대로 dictionary 사전 처럼 키값:밸류값의 쌍으로 데이터가 \n",
        "# 저장되는 자료형이다.\n",
        "# 리스트처럼 mutable 한 속성을 가지고 있으나 인덱싱과 슬라이싱은 \n",
        "# 지원하지 않는다. 즉, 순서가 없다*** 따라서 키값으로 밸류 값을 꺼낸다.\n",
        "\n",
        "adict = {5:'a', 3:'b', 2:'c'}  #1은 a이다.\n",
        "\n",
        "print(adict[5])\n",
        "print(adict)\n",
        "\n",
        "adict[9] = 'd'\n",
        "print(adict)\n",
        "\n",
        "del adict[3] #키와 밸류가 쌍으로 사라진다\n",
        "print(adict)\n",
        "\n",
        "\n"
      ],
      "metadata": {
        "colab": {
          "base_uri": "https://localhost:8080/"
        },
        "id": "TWqJ2WVWqC__",
        "outputId": "48f86c37-c1e9-464b-e6d1-d002c802ba97"
      },
      "execution_count": null,
      "outputs": [
        {
          "output_type": "stream",
          "name": "stdout",
          "text": [
            "a\n",
            "{5: 'a', 3: 'b', 2: 'c'}\n",
            "{5: 'a', 3: 'b', 2: 'c', 9: 'd'}\n",
            "{5: 'a', 2: 'c', 9: 'd'}\n"
          ]
        }
      ]
    },
    {
      "cell_type": "code",
      "source": [
        "adict[0] #딕셔너리는 인덱싱과 슬라이싱이 불가능하다. "
      ],
      "metadata": {
        "colab": {
          "base_uri": "https://localhost:8080/",
          "height": 174
        },
        "id": "BQJshkYfrphu",
        "outputId": "97ed2bc6-c28d-454c-f37e-546d563e421c"
      },
      "execution_count": null,
      "outputs": [
        {
          "output_type": "error",
          "ename": "KeyError",
          "evalue": "ignored",
          "traceback": [
            "\u001b[0;31m---------------------------------------------------------------------------\u001b[0m",
            "\u001b[0;31mKeyError\u001b[0m                                  Traceback (most recent call last)",
            "\u001b[0;32m<ipython-input-42-db9ab5ad4561>\u001b[0m in \u001b[0;36m<module>\u001b[0;34m\u001b[0m\n\u001b[0;32m----> 1\u001b[0;31m \u001b[0madict\u001b[0m\u001b[0;34m[\u001b[0m\u001b[0;36m0\u001b[0m\u001b[0;34m]\u001b[0m\u001b[0;34m\u001b[0m\u001b[0;34m\u001b[0m\u001b[0m\n\u001b[0m",
            "\u001b[0;31mKeyError\u001b[0m: 0"
          ]
        }
      ]
    },
    {
      "cell_type": "code",
      "source": [
        "# 딕셔너리에서 키값만 추출하는 기능 keys\n",
        "\n",
        "adict = {5:'a', 3:'b', 2:'c'} \n",
        "\n",
        "print(adict.keys())\n",
        "\n",
        "# 딕셔너리에서 밸류값만 추출하는 기능 values\n",
        "print(adict.values())\n",
        "\n",
        "#딕셔너리에서 쌍으로 추출하는 기능 items\n",
        "print(adict.items())\n",
        "\n",
        "#딕셔너리에 키값이 존재하는지 확인하는 기능 = in\n",
        "5 in adict"
      ],
      "metadata": {
        "colab": {
          "base_uri": "https://localhost:8080/"
        },
        "id": "ylxIseEhr-OG",
        "outputId": "eaf62726-8c6f-442d-b0b3-ae52946061a6"
      },
      "execution_count": null,
      "outputs": [
        {
          "output_type": "stream",
          "name": "stdout",
          "text": [
            "dict_keys([5, 3, 2])\n",
            "dict_values(['a', 'b', 'c'])\n",
            "dict_items([(5, 'a'), (3, 'b'), (2, 'c')])\n"
          ]
        },
        {
          "output_type": "execute_result",
          "data": {
            "text/plain": [
              "True"
            ]
          },
          "metadata": {},
          "execution_count": 48
        }
      ]
    },
    {
      "cell_type": "code",
      "source": [
        "# set 집합 \n",
        "\n",
        "# 중복을 허용하지 않는다. \n",
        "# 삽입삭제가 가능한 mutable한 속성을 갖는다.\n",
        "# 인덱싱과 슬라이싱이 불가능하다. (Unordered)\n",
        "\n",
        "s1 = {1,2,3,4,1,2} \n",
        "\n",
        "print(s1)\n",
        "\n",
        "print(type(s1)) #사용빈도가 떨어지고 중복제거로 사용\n"
      ],
      "metadata": {
        "colab": {
          "base_uri": "https://localhost:8080/"
        },
        "id": "-e7uuCD7tTR_",
        "outputId": "cd6c7649-ba30-4de7-a77e-3a7fb0cb12d6"
      },
      "execution_count": null,
      "outputs": [
        {
          "output_type": "stream",
          "name": "stdout",
          "text": [
            "{1, 2, 3, 4}\n",
            "<class 'set'>\n"
          ]
        }
      ]
    },
    {
      "cell_type": "code",
      "source": [
        "# Boolean은 True와 False로 나눈다. (반드시 대문자) "
      ],
      "metadata": {
        "id": "AOaiz1iFumhF"
      },
      "execution_count": null,
      "outputs": []
    },
    {
      "cell_type": "code",
      "source": [
        "# 숙제용 문법\n",
        "\n",
        "a = \"hi\"\n",
        "print(a)\n",
        "\n",
        "#키보드로부터 직접 받는방법?????\n",
        "\n",
        "a= input(\"출력할 내용을 입력하세요\")\n",
        "print(\"입력하신 내용은 \", a , \"입니다.\")"
      ],
      "metadata": {
        "colab": {
          "base_uri": "https://localhost:8080/"
        },
        "id": "v1VDkJPqz1y1",
        "outputId": "e66f884a-394e-4e63-88ef-753cb19d0035"
      },
      "execution_count": null,
      "outputs": [
        {
          "output_type": "stream",
          "name": "stdout",
          "text": [
            "hi\n",
            "출력할 내용을 입력하세요반갑습니다.\n",
            "입력하신 내용은  반갑습니다. 입니다.\n"
          ]
        }
      ]
    }
  ]
}
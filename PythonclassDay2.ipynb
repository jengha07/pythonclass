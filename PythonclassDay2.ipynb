{
 "cells": [
  {
   "cell_type": "code",
   "execution_count": 1,
   "id": "18c78baf",
   "metadata": {},
   "outputs": [
    {
     "name": "stdout",
     "output_type": "stream",
     "text": [
      "Hello World !!!\n"
     ]
    }
   ],
   "source": [
    "print(\"Hello World !!!\")"
   ]
  },
  {
   "cell_type": "code",
   "execution_count": 3,
   "id": "50386229",
   "metadata": {},
   "outputs": [
    {
     "name": "stdout",
     "output_type": "stream",
     "text": [
      "택시를 타자\n"
     ]
    }
   ],
   "source": [
    "money = True\n",
    "\n",
    "if money == True:\n",
    "    print(\"택시를 타자\")\n",
    "else:\n",
    "    print(\"걸어 가자\")\n",
    "    "
   ]
  },
  {
   "cell_type": "code",
   "execution_count": 8,
   "id": "d88a1d4b",
   "metadata": {},
   "outputs": [
    {
     "name": "stdout",
     "output_type": "stream",
     "text": [
      "걸어가자\n"
     ]
    }
   ],
   "source": [
    "money = 500\n",
    "\n",
    "if money >= 5000:\n",
    "    print(\"택시를 타자\")\n",
    "elif money >=1000:\n",
    "    print(\"버스를 타자\")\n",
    "else:\n",
    "    print(\"걸어가자\")"
   ]
  },
  {
   "cell_type": "code",
   "execution_count": null,
   "id": "56e56757",
   "metadata": {},
   "outputs": [],
   "source": [
    "#학생의 성적을 입력 받아서 \n",
    "#점수가 90이상이면 \"A학점입니다.\"\n",
    "#점수가 80이상이면 \"B학점입니다.\"\n",
    "#점수가 70이상이면 \"C학점입니다.\"\n",
    "#점수가 60이상이면 \"D학점입니다.\"\n",
    "#나머지가 모두 \"F학점입니다.\""
   ]
  },
  {
   "cell_type": "code",
   "execution_count": 11,
   "id": "7d0a4e67",
   "metadata": {},
   "outputs": [
    {
     "name": "stdout",
     "output_type": "stream",
     "text": [
      "학생의 점수는 몇 점입니까? 90\n",
      "A 학점입니다\n"
     ]
    }
   ],
   "source": [
    "score = int(input(\"학생의 점수는 몇 점입니까? \"))\n",
    "\n",
    "if score >=90:\n",
    "    print(\"A 학점입니다\")\n",
    "    \n",
    "elif score >=80:\n",
    "    print(\"B 학점입니다\")\n",
    "    \n",
    "elif score >=70:\n",
    "    print(\"C 학점입니다\")\n",
    "    \n",
    "elif score >=60:\n",
    "    print(\"D 학점입니다\")\n",
    "else:\n",
    "    print(\"F 학점입니다\")\n"
   ]
  },
  {
   "cell_type": "code",
   "execution_count": 12,
   "id": "21eb7f39",
   "metadata": {},
   "outputs": [
    {
     "name": "stdout",
     "output_type": "stream",
     "text": [
      "10\n",
      "9\n",
      "8\n",
      "7\n",
      "6\n",
      "5\n",
      "4\n",
      "3\n",
      "2\n",
      "1\n",
      "0\n"
     ]
    }
   ],
   "source": [
    "#while\n",
    "\n",
    "\n",
    "no = 10 \n",
    "\n",
    "while no >= 0:\n",
    "    print(no)\n",
    "    no = no - 1"
   ]
  },
  {
   "cell_type": "code",
   "execution_count": 17,
   "id": "901ff8e9",
   "metadata": {},
   "outputs": [
    {
     "name": "stdout",
     "output_type": "stream",
     "text": [
      "1. 덧셈 / 2. 뺄셈 / 3. 곱셈 / 4. 나눗셈 / 5. 종료\n",
      "1\n",
      "1. 덧셈 / 2. 뺄셈 / 3. 곱셈 / 4. 나눗셈 / 5. 종료\n",
      "2\n",
      "1. 덧셈 / 2. 뺄셈 / 3. 곱셈 / 4. 나눗셈 / 5. 종료\n",
      "4\n",
      "1. 덧셈 / 2. 뺄셈 / 3. 곱셈 / 4. 나눗셈 / 5. 종료\n",
      "5\n"
     ]
    }
   ],
   "source": [
    "prompt = \"1. 덧셈 / 2. 뺄셈 / 3. 곱셈 / 4. 나눗셈 / 5. 종료\"\n",
    "no = 0\n",
    "\n",
    "\n",
    "while no <= 4:\n",
    "    print(prompt)\n",
    "    no = int(input())\n",
    "    \n",
    "    "
   ]
  },
  {
   "cell_type": "code",
   "execution_count": 19,
   "id": "8a3dbc91",
   "metadata": {},
   "outputs": [
    {
     "name": "stdout",
     "output_type": "stream",
     "text": [
      "0\n",
      "1\n",
      "2\n",
      "3\n",
      "4\n",
      "5\n",
      "6\n",
      "7\n",
      "8\n",
      "9\n",
      "10\n",
      "0\n",
      "1\n",
      "2\n",
      "3\n",
      "4\n",
      "5\n",
      "6\n",
      "7\n",
      "8\n",
      "9\n",
      "10\n"
     ]
    }
   ],
   "source": [
    "#while문의 경우에는 반복 횟수가 정확하지 않을 경우가 많기 때문에 조건에서 뿐만이 아니라 중간에 반복을 종료 시키는 방법도 필요하다.\n",
    "\n",
    "no = 0\n",
    "\n",
    "while no <= 10:\n",
    "    print(no)\n",
    "    no = no + 1\n",
    "    \n",
    "no = 0\n",
    "\n",
    "while True:\n",
    "    print(no)\n",
    "    no = no + 1\n",
    "    \n",
    "    if no > 10:\n",
    "        break\n",
    "        \n",
    "    #무한반복이니 중간에 정지시킬 필요가 있다. 조건에다가 or break"
   ]
  },
  {
   "cell_type": "code",
   "execution_count": null,
   "id": "7ecd9013",
   "metadata": {},
   "outputs": [],
   "source": [
    "no = 0"
   ]
  },
  {
   "cell_type": "code",
   "execution_count": 29,
   "id": "b52ff486",
   "metadata": {},
   "outputs": [
    {
     "name": "stdout",
     "output_type": "stream",
     "text": [
      "1683\n"
     ]
    }
   ],
   "source": [
    "no = 0 #살짝틀림\n",
    "sum = 0\n",
    "\n",
    "while True: \n",
    "    no % 3 == 0 \n",
    "    sum = sum + no\n",
    "    no = no + 3\n",
    "    \n",
    "    if no > 100:\n",
    "          break\n",
    "    \n",
    "print(sum) "
   ]
  },
  {
   "cell_type": "code",
   "execution_count": 30,
   "id": "83d38ec2",
   "metadata": {},
   "outputs": [
    {
     "name": "stdout",
     "output_type": "stream",
     "text": [
      "1683\n"
     ]
    }
   ],
   "source": [
    "no = 1\n",
    "sum = 0\n",
    "\n",
    "while no <= 100: \n",
    "    if no % 3 == 0:\n",
    "        sum = sum + no\n",
    "    \n",
    "    no = no + 1 #no += 1  java no++\n",
    "    \n",
    "print(sum)\n"
   ]
  },
  {
   "cell_type": "code",
   "execution_count": null,
   "id": "c3455f99",
   "metadata": {},
   "outputs": [],
   "source": [
    "# for 구문"
   ]
  },
  {
   "cell_type": "code",
   "execution_count": 32,
   "id": "7869ae3d",
   "metadata": {},
   "outputs": [
    {
     "name": "stdout",
     "output_type": "stream",
     "text": [
      "1\n",
      "2\n",
      "3\n",
      "4\n",
      "5\n",
      "6\n",
      "7\n",
      "8\n",
      "9\n",
      "10\n"
     ]
    }
   ],
   "source": [
    "for i in [1,2,3,4,5,6,7,8,9,10]:\n",
    "    print(i)\n"
   ]
  },
  {
   "cell_type": "code",
   "execution_count": 40,
   "id": "7a132b8a",
   "metadata": {},
   "outputs": [
    {
     "name": "stdout",
     "output_type": "stream",
     "text": [
      "1 번째 학생은 불합격입니다.\n",
      "2 번째 학생은 합격입니다.\n",
      "2 번째 학생은 불합격입니다.\n",
      "3 번째 학생은 불합격입니다.\n",
      "4 번째 학생은 합격입니다.\n"
     ]
    }
   ],
   "source": [
    "math = [80, 90, 70, 70, 100]\n",
    "\n",
    "\n",
    "j = 1\n",
    "for i in math: \n",
    "    if i >= 90:\n",
    "        print(j, \"번째 학생은 합격입니다.\")\n",
    "    else:\n",
    "        print(j, \"번째 학생은 불합격입니다.\")\n",
    "        j += 1"
   ]
  },
  {
   "cell_type": "code",
   "execution_count": 41,
   "id": "93f044cf",
   "metadata": {},
   "outputs": [
    {
     "name": "stdout",
     "output_type": "stream",
     "text": [
      "1\n",
      "2\n",
      "3\n",
      "4\n",
      "5\n",
      "6\n",
      "7\n",
      "8\n",
      "9\n",
      "10\n"
     ]
    }
   ],
   "source": [
    "for i in [1,2,3,4,5,6,7,8,9,10]:\n",
    "    print(i)\n"
   ]
  },
  {
   "cell_type": "code",
   "execution_count": 44,
   "id": "eb4c6249",
   "metadata": {},
   "outputs": [
    {
     "name": "stdout",
     "output_type": "stream",
     "text": [
      "2\n",
      "4\n",
      "6\n",
      "8\n",
      "10\n"
     ]
    }
   ],
   "source": [
    "for i in [1,2,3,4,5,6,7,8,9,10]:\n",
    "    if i % 2 == 0:\n",
    "           print(i)"
   ]
  },
  {
   "cell_type": "code",
   "execution_count": 48,
   "id": "54d9f63e",
   "metadata": {},
   "outputs": [
    {
     "name": "stdout",
     "output_type": "stream",
     "text": [
      "2\n",
      "4\n",
      "6\n",
      "8\n",
      "10\n"
     ]
    }
   ],
   "source": [
    "for i in [1,2,3,4,5,6,7,8,9,10]:\n",
    "    if i % 2 != 0:\n",
    "        continue\n",
    "    print(i)"
   ]
  },
  {
   "cell_type": "code",
   "execution_count": 49,
   "id": "58677d65",
   "metadata": {},
   "outputs": [],
   "source": [
    "#range함수\n",
    "\n",
    "# 숫자를 자동으로 생성해준다. for문과 함께 사용되는 경우가 아주 많다. \n",
    "\n"
   ]
  },
  {
   "cell_type": "code",
   "execution_count": 51,
   "id": "e374e1ad",
   "metadata": {},
   "outputs": [
    {
     "name": "stdout",
     "output_type": "stream",
     "text": [
      "range(1, 11)\n"
     ]
    }
   ],
   "source": [
    "print(range(1,11))\n"
   ]
  },
  {
   "cell_type": "code",
   "execution_count": 55,
   "id": "dc99d844",
   "metadata": {},
   "outputs": [
    {
     "name": "stdout",
     "output_type": "stream",
     "text": [
      "1\n",
      "2\n",
      "3\n",
      "4\n",
      "5\n",
      "6\n",
      "7\n",
      "8\n",
      "9\n",
      "10\n"
     ]
    }
   ],
   "source": [
    "for i in range(1,11): #두번째 수는 미만     \n",
    "    print(i)"
   ]
  },
  {
   "cell_type": "code",
   "execution_count": 62,
   "id": "273c2be4",
   "metadata": {},
   "outputs": [
    {
     "name": "stdout",
     "output_type": "stream",
     "text": [
      "2\t4\t6\t8\t10\t12\t14\t16\t18\t\n",
      "3\t6\t9\t12\t15\t18\t21\t24\t27\t\n",
      "4\t8\t12\t16\t20\t24\t28\t32\t36\t\n",
      "5\t10\t15\t20\t25\t30\t35\t40\t45\t\n",
      "6\t12\t18\t24\t30\t36\t42\t48\t54\t\n",
      "7\t14\t21\t28\t35\t42\t49\t56\t63\t\n",
      "8\t16\t24\t32\t40\t48\t56\t64\t72\t\n",
      "9\t18\t27\t36\t45\t54\t63\t72\t81\t\n"
     ]
    }
   ],
   "source": [
    "# for 문으로 구구단 출력하기\n",
    "\n",
    "for i in range(2,10): #i는 단을 표현\n",
    "    for j in range(1,10):\n",
    "           print(i*j, end =\"\\t\")\n",
    "    print()"
   ]
  },
  {
   "cell_type": "code",
   "execution_count": 88,
   "id": "a6b520c3",
   "metadata": {},
   "outputs": [
    {
     "name": "stdout",
     "output_type": "stream",
     "text": [
      "2550\n"
     ]
    }
   ],
   "source": [
    "# range를 사용하여 100이하의 수중 짝수들만의 합계를 구하세요\n",
    "\n",
    "sum = 0\n",
    "\n",
    "for i in range(1, 101):\n",
    "    i += 1\n",
    "    if i % 2 ==0:\n",
    "        sum += i\n",
    "print(sum)"
   ]
  },
  {
   "cell_type": "code",
   "execution_count": 91,
   "id": "ef888fed",
   "metadata": {},
   "outputs": [
    {
     "name": "stdout",
     "output_type": "stream",
     "text": [
      "0\n",
      "2\n",
      "4\n",
      "6\n",
      "8\n",
      "10\n"
     ]
    }
   ],
   "source": [
    "#range는 (start, stop, step)  으로 사용한다.\n",
    "\n",
    "#for i in range(11): #start를 생략 하면 0에서 시작\n",
    "    # print(i)\n",
    "    \n",
    "for i in range(0,11,2): #stop을 생략하면 1씩 증가\n",
    "     print(i)"
   ]
  },
  {
   "cell_type": "code",
   "execution_count": 99,
   "id": "375e30ab",
   "metadata": {},
   "outputs": [
    {
     "name": "stdout",
     "output_type": "stream",
     "text": [
      "[1, 2, 3, 4]\n",
      "[1, 2, 3, 4]\n",
      "[2, 4, 6, 8]\n",
      "[2, 4]\n"
     ]
    }
   ],
   "source": [
    "#리스트 축약/내포 list comprehension\n",
    "#리스트를 좀 더 편리하고 직관적으로 만드는 방법이다. \n",
    "\n",
    "list1 = [1,2,3,4]\n",
    "\n",
    "print(list1)\n",
    "\n",
    "list2 = [num           for num in list1] \n",
    "\n",
    "print(list2)\n",
    "\n",
    "list3 = [num*2           for num in list1]\n",
    "\n",
    "print(list3)\n",
    "\n",
    "list4 = [num           for num in list1    if num % 2 == 0]       # 3 2 1 \n",
    "\n",
    "print(list4)"
   ]
  },
  {
   "cell_type": "code",
   "execution_count": 111,
   "id": "c252fc06",
   "metadata": {},
   "outputs": [
    {
     "name": "stdout",
     "output_type": "stream",
     "text": [
      "합격입니다\n",
      "불합격입니다. \n"
     ]
    }
   ],
   "source": [
    "no = 70\n",
    "\n",
    "if no >= 70:\n",
    "    print(\"합격입니다\")\n",
    "else:\n",
    "    print(\"불합격입니다\")   \n",
    "    \n",
    "    \n",
    "print(\"합격입니다\" if no>=80  else \"불합격입니다. \")"
   ]
  }
 ],
 "metadata": {
  "kernelspec": {
   "display_name": "Python 3 (ipykernel)",
   "language": "python",
   "name": "python3"
  },
  "language_info": {
   "codemirror_mode": {
    "name": "ipython",
    "version": 3
   },
   "file_extension": ".py",
   "mimetype": "text/x-python",
   "name": "python",
   "nbconvert_exporter": "python",
   "pygments_lexer": "ipython3",
   "version": "3.9.13"
  }
 },
 "nbformat": 4,
 "nbformat_minor": 5
}
